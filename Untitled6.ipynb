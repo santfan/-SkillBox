{
  "nbformat": 4,
  "nbformat_minor": 0,
  "metadata": {
    "colab": {
      "provenance": [],
      "authorship_tag": "ABX9TyP+gFzlvPOu7NFhaJ5oUXHr",
      "include_colab_link": true
    },
    "kernelspec": {
      "name": "python3",
      "display_name": "Python 3"
    },
    "language_info": {
      "name": "python"
    }
  },
  "cells": [
    {
      "cell_type": "markdown",
      "metadata": {
        "id": "view-in-github",
        "colab_type": "text"
      },
      "source": [
        "<a href=\"https://colab.research.google.com/github/santfan/SkillBox/blob/main/Untitled6.ipynb\" target=\"_parent\"><img src=\"https://colab.research.google.com/assets/colab-badge.svg\" alt=\"Open In Colab\"/></a>"
      ]
    },
    {
      "cell_type": "markdown",
      "source": [
        "Здесь пробую создать файл с кодом `import pandas as pd` и с формулой $$int$$ и с картинокой ![Услуги.png](data:image/png;base64,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)"
      ],
      "metadata": {
        "id": "bkLphPpb1b6v"
      }
    }
  ]
}